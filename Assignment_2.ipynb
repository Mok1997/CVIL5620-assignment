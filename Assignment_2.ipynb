{
 "cells": [
  {
   "cell_type": "code",
   "execution_count": 320,
   "id": "9998bcbd",
   "metadata": {},
   "outputs": [],
   "source": [
    "import numpy as np\n",
    "import pandas as pd"
   ]
  },
  {
   "cell_type": "code",
   "execution_count": null,
   "id": "38cc4435",
   "metadata": {},
   "outputs": [],
   "source": []
  },
  {
   "cell_type": "markdown",
   "id": "f43e7bb4",
   "metadata": {},
   "source": [
    "### Exercise 1: Doubly constraints with growth factor"
   ]
  },
  {
   "cell_type": "code",
   "execution_count": 321,
   "id": "3c63b643",
   "metadata": {},
   "outputs": [],
   "source": [
    "OD = np.array([[0,60,275,571],[50,0,410,443],[123,61,0,47],[205,265,75,0]])\n",
    "A = np.array([1,1,1,1],dtype=np.float32)\n",
    "B = np.array([1,1,1,1],dtype=np.float32)\n",
    "\n",
    "O_new = np.array([1200,1050,380,770])\n",
    "D_new = np.array([670,730,950,1050])\n",
    "\n",
    "N = OD.shape[0]"
   ]
  },
  {
   "cell_type": "code",
   "execution_count": 322,
   "id": "c67c8fc7",
   "metadata": {},
   "outputs": [],
   "source": [
    "#Cautious: sensitive to alter their order\n",
    "\n",
    "eps = 1e-2\n",
    "\n",
    "while True:\n",
    "    A_change = [0 for _ in range(N)]\n",
    "    B_change = [0 for _ in range(N)]\n",
    "    for i in range(N):\n",
    "        B_change[i] = np.abs((B[i]-D_new[i]/np.dot(OD[:,i],A))/B[i])\n",
    "        B[i] = D_new[i]/np.dot(OD[:,i],A)\n",
    "        \n",
    "    for i in range(N):\n",
    "        A_change[i] = np.abs((A[i]-O_new[i]/np.dot(OD[i,:],B))/A[i])\n",
    "        A[i] = O_new[i]/np.dot(OD[i,:],B)\n",
    "        \n",
    "    if all([i<eps for i in B_change]) and all([i<eps for i in A_change]):\n",
    "        break\n",
    "        \n",
    "        \n",
    "    OD_new = np.zeros([N,N])\n",
    "    for i in range(N):\n",
    "        for j in range(N):\n",
    "            OD_new[i,j] = OD[i,j]*A[i]*B[j]\n",
    "    "
   ]
  },
  {
   "cell_type": "code",
   "execution_count": null,
   "id": "08ac177d",
   "metadata": {},
   "outputs": [],
   "source": []
  },
  {
   "cell_type": "markdown",
   "id": "1c3167be",
   "metadata": {},
   "source": [
    "### Exercise 2: Gravity model"
   ]
  },
  {
   "cell_type": "code",
   "execution_count": 323,
   "id": "8e56a284",
   "metadata": {},
   "outputs": [],
   "source": [
    "beta = 0.01\n",
    "\n",
    "Travel_time = np.array([[10,15,20],[15,8,17],[20,17,8]])\n",
    "Travel_time_exp = np.exp(-beta*Travel_time)\n",
    "#Travel_time_exp = 100/(Travel_time**2)\n",
    "\n",
    "O = np.array([100,300,250])\n",
    "D = np.array([450,0,200])\n",
    "N = O.shape[0]\n",
    "\n",
    "#z = O.sum()/Travel_time_exp.sum()\n",
    "#Travel_time_exp*=z"
   ]
  },
  {
   "cell_type": "code",
   "execution_count": 324,
   "id": "a2a8e026",
   "metadata": {},
   "outputs": [],
   "source": [
    "B = np.array([1,1,1],dtype=np.float32)\n"
   ]
  },
  {
   "cell_type": "code",
   "execution_count": 325,
   "id": "15c51430",
   "metadata": {},
   "outputs": [
    {
     "name": "stdout",
     "output_type": "stream",
     "text": [
      "[1.0070764  0.         0.98433906]\n",
      "[1.007056  0.        0.9842854]\n"
     ]
    }
   ],
   "source": [
    "while True:\n",
    "    T = np.zeros([N,N])\n",
    "\n",
    "    for i in range(N):\n",
    "        SUM = 0\n",
    "        for j in range(N):\n",
    "            SUM += B[j]*D[j]*Travel_time_exp[i,j]\n",
    "            #print(B[j]*D[j]*Travel_time_exp[i,j])\n",
    "        for j in range(N):    \n",
    "            T[i,j] = B[j]*D[j]*Travel_time_exp[i,j]/SUM*O[i]\n",
    "\n",
    "    MD = np.zeros([1,N])\n",
    "    for j in range(N):\n",
    "        for i in range(N):\n",
    "            MD[0,j] += T[i,j]\n",
    "            \n",
    "    for j in range(N):\n",
    "        B[j] = B[j] * (D[j]/(MD[0,j]+1e-2))\n",
    "        \n",
    "    if np.abs((D[j])/(MD[0,j])-1)<=1e-2:\n",
    "        break\n",
    "   "
   ]
  },
  {
   "cell_type": "code",
   "execution_count": 329,
   "id": "76e11fde",
   "metadata": {},
   "outputs": [
    {
     "data": {
      "text/plain": [
       "'/Users/mohaoyu/Course Projects/CVIL 5620'"
      ]
     },
     "execution_count": 329,
     "metadata": {},
     "output_type": "execute_result"
    }
   ],
   "source": [
    "os.getcwd()"
   ]
  },
  {
   "cell_type": "code",
   "execution_count": 328,
   "id": "26aab049",
   "metadata": {},
   "outputs": [],
   "source": [
    "import os"
   ]
  },
  {
   "cell_type": "code",
   "execution_count": null,
   "id": "5913315f",
   "metadata": {},
   "outputs": [],
   "source": []
  }
 ],
 "metadata": {
  "kernelspec": {
   "display_name": "Python 3",
   "language": "python",
   "name": "python3"
  },
  "language_info": {
   "codemirror_mode": {
    "name": "ipython",
    "version": 3
   },
   "file_extension": ".py",
   "mimetype": "text/x-python",
   "name": "python",
   "nbconvert_exporter": "python",
   "pygments_lexer": "ipython3",
   "version": "3.8.8"
  }
 },
 "nbformat": 4,
 "nbformat_minor": 5
}
